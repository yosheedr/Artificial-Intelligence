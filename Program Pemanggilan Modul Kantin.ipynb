{
  "nbformat": 4,
  "nbformat_minor": 0,
  "metadata": {
    "colab": {
      "provenance": []
    },
    "kernelspec": {
      "name": "python3",
      "display_name": "Python 3"
    },
    "language_info": {
      "name": "python"
    }
  },
  "cells": [
    {
      "cell_type": "markdown",
      "source": [
        "**Program Pemanggilan Modul**"
      ],
      "metadata": {
        "id": "bsdEi0ZU6XXm"
      }
    },
    {
      "cell_type": "code",
      "execution_count": null,
      "metadata": {
        "id": "7mSD9F5TtINT"
      },
      "outputs": [],
      "source": [
        "from modul_kantinn import* #import modul_kantinn\n",
        "import sys #import system exit"
      ]
    },
    {
      "cell_type": "code",
      "source": [
        "kan = Kantin(0,0,0) #instansiasi objek, pembuatan objek dengan memberikan parameter nilai awal\n",
        "kan.tampilMenu() #panggil method untuk menampilkan menu\n",
        "\n",
        "print () #cetak baris baru\n",
        "kode = int(input(\"Masukkan Kode : \")) #casting ke int, membuat inputan kode pesanan\n",
        "jml = int(input(\"Masukkan Jumlah Pesanan : \")) #casting ke int, membuat inputan jumlah pesanan\n",
        "\n",
        "if (jml > 0): #jika jumlah pesanan > 0, maka percabangan akan dieksekusi\n",
        "  if (kode == 1): #inisialisasi pilihan 1 dan harga\n",
        "    harga = 9000\n",
        "  elif (kode == 2): #inisialisasi pilihan 2 dan harga\n",
        "    harga = 12000\n",
        "  elif (kode == 3): #inisialisasi pilihan 3 dan harga\n",
        "    harga = 18000\n",
        "  else:\n",
        "    print ()\n",
        "    print(\"KODE PESANAN TIDAK TERSEDIA!\") #tampilan ketika user input kode selain 1-3\n",
        "    harga = 0 #set harga = 0\n",
        "else :\n",
        "  print(\"Jumlah Pesanan Invalid!\") #tampilan ketika user input jumlah pesanan <= 0\n",
        "  sys.exit() #keluar dari program\n",
        "  print ()\n",
        "\n",
        "kan = Kantin(harga,jml,0) #inisialisasi objek dengan parameter harga, jumlah, total = 0\n",
        "kan.totalbayar() #panggil method untuk menghitung dan menampilkan total bayar"
      ],
      "metadata": {
        "colab": {
          "base_uri": "https://localhost:8080/"
        },
        "id": "DGPYGygJtbNX",
        "outputId": "ef28ca9c-d116-4021-b5d1-d96d94ef24da"
      },
      "execution_count": null,
      "outputs": [
        {
          "output_type": "stream",
          "name": "stdout",
          "text": [
            "\n",
            "\t  Selamat datang di Kantin Biru!  \n",
            "\n",
            "\t======= =============== ==========\n",
            "\tKODE\tMENU\t\tHARGA\n",
            "\t======= =============== ==========\n",
            "\n",
            "\t 1\tJus Mangga\tRp 9.000\n",
            "\t 2\tNasi Goreng\tRp 12.000\n",
            "\t 3\tPaket Hemat\tRp 18.000\n",
            "\n",
            "Masukkan Kode : 1\n",
            "Masukkan Jumlah Pesanan : 9\n",
            "Total : Rp 81000\n"
          ]
        }
      ]
    }
  ]
}