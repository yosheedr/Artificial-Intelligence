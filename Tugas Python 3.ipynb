{
  "nbformat": 4,
  "nbformat_minor": 0,
  "metadata": {
    "colab": {
      "provenance": []
    },
    "kernelspec": {
      "name": "python3",
      "display_name": "Python 3"
    },
    "language_info": {
      "name": "python"
    }
  },
  "cells": [
    {
      "cell_type": "markdown",
      "source": [
        "# ***Module 1 - Python Basics***"
      ],
      "metadata": {
        "id": "j2jKL4BCoF0m"
      }
    },
    {
      "cell_type": "markdown",
      "source": [
        "**1. Your First Program**"
      ],
      "metadata": {
        "id": "3xJxs_Aczyk-"
      }
    },
    {
      "cell_type": "code",
      "source": [
        "# Question 1\n",
        "print(\"Hello\\nWorld!\")"
      ],
      "metadata": {
        "colab": {
          "base_uri": "https://localhost:8080/"
        },
        "id": "dhB0X1jyZPF5",
        "outputId": "acf065b4-4471-448d-d994-3aeb3b02df68"
      },
      "execution_count": null,
      "outputs": [
        {
          "output_type": "stream",
          "name": "stdout",
          "text": [
            "Hello\n",
            "World!\n"
          ]
        }
      ]
    },
    {
      "cell_type": "code",
      "execution_count": null,
      "metadata": {
        "id": "2-rfXY4dY0PG"
      },
      "outputs": [],
      "source": [
        "# Question 2\n",
        "# print('Hello World!')"
      ]
    },
    {
      "cell_type": "markdown",
      "source": [
        "**2. Types**"
      ],
      "metadata": {
        "id": "owmZjwJxz6Ss"
      }
    },
    {
      "cell_type": "code",
      "source": [
        "# Question 1\n",
        "int(1.0)"
      ],
      "metadata": {
        "colab": {
          "base_uri": "https://localhost:8080/"
        },
        "id": "HIlnSPbj1Pp1",
        "outputId": "bc80c0d8-cee4-4222-b63d-c0b46fa5fa3d"
      },
      "execution_count": null,
      "outputs": [
        {
          "output_type": "execute_result",
          "data": {
            "text/plain": [
              "1"
            ]
          },
          "metadata": {},
          "execution_count": 55
        }
      ]
    },
    {
      "cell_type": "code",
      "source": [
        "# Question 2\n",
        "bool(1)"
      ],
      "metadata": {
        "colab": {
          "base_uri": "https://localhost:8080/"
        },
        "id": "VEjaLhSyagVs",
        "outputId": "f1f10dba-0d26-4ec2-d1a3-7a0718167e89"
      },
      "execution_count": null,
      "outputs": [
        {
          "output_type": "execute_result",
          "data": {
            "text/plain": [
              "True"
            ]
          },
          "metadata": {},
          "execution_count": 56
        }
      ]
    },
    {
      "cell_type": "markdown",
      "source": [
        "**3. String Operations**"
      ],
      "metadata": {
        "id": "s8jwy8_U193p"
      }
    },
    {
      "cell_type": "code",
      "source": [
        "# Question 1\n",
        "Numbers = \"0123456\"\n",
        "print (Numbers[::2])"
      ],
      "metadata": {
        "colab": {
          "base_uri": "https://localhost:8080/"
        },
        "id": "mcTYb12115gq",
        "outputId": "cd0ea4f3-cd8d-428f-ef54-65f48d26f7ba"
      },
      "execution_count": null,
      "outputs": [
        {
          "output_type": "stream",
          "name": "stdout",
          "text": [
            "0246\n"
          ]
        }
      ]
    },
    {
      "cell_type": "code",
      "source": [
        "# Question 2\n",
        "\"0123456\".find('1')"
      ],
      "metadata": {
        "colab": {
          "base_uri": "https://localhost:8080/"
        },
        "id": "wO6K6Rso3IXH",
        "outputId": "b1a9981a-29cf-48fb-c6b9-7ccb80f10c80"
      },
      "execution_count": null,
      "outputs": [
        {
          "output_type": "execute_result",
          "data": {
            "text/plain": [
              "1"
            ]
          },
          "metadata": {},
          "execution_count": 58
        }
      ]
    },
    {
      "cell_type": "markdown",
      "source": [
        "**4. Review Question !**"
      ],
      "metadata": {
        "id": "LUegkZ8ZfvPP"
      }
    },
    {
      "cell_type": "code",
      "source": [
        "# Review Question 1\n",
        "3 + 2 * 2"
      ],
      "metadata": {
        "id": "LqEKvJZvhoak",
        "colab": {
          "base_uri": "https://localhost:8080/"
        },
        "outputId": "4da2097e-5fa6-4ebe-9a07-401277dd171c"
      },
      "execution_count": null,
      "outputs": [
        {
          "output_type": "execute_result",
          "data": {
            "text/plain": [
              "7"
            ]
          },
          "metadata": {},
          "execution_count": 59
        }
      ]
    },
    {
      "cell_type": "code",
      "source": [
        "# Review Question 2\n",
        "name = 'Lizz'\n",
        "print(name[0:2])"
      ],
      "metadata": {
        "colab": {
          "base_uri": "https://localhost:8080/"
        },
        "id": "GDfETZ8rgJ3O",
        "outputId": "19e9215a-3e80-4fd8-da35-8ffbea4233a1"
      },
      "execution_count": null,
      "outputs": [
        {
          "output_type": "stream",
          "name": "stdout",
          "text": [
            "Li\n"
          ]
        }
      ]
    },
    {
      "cell_type": "code",
      "source": [
        "# Review Question 3\n",
        "var = '01234567'\n",
        "print(var[::2])"
      ],
      "metadata": {
        "colab": {
          "base_uri": "https://localhost:8080/"
        },
        "id": "IRfaPoQ6gWh2",
        "outputId": "4c809230-3c7f-48c2-80da-94350acccd5d"
      },
      "execution_count": null,
      "outputs": [
        {
          "output_type": "stream",
          "name": "stdout",
          "text": [
            "0246\n"
          ]
        }
      ]
    },
    {
      "cell_type": "code",
      "source": [
        "# Review Question 4\n",
        "print ('1'+'2')"
      ],
      "metadata": {
        "colab": {
          "base_uri": "https://localhost:8080/"
        },
        "id": "V1agLh9Vgvs2",
        "outputId": "d1c6d6c5-a0f6-45f3-eaa4-7a0e6201a5d9"
      },
      "execution_count": null,
      "outputs": [
        {
          "output_type": "stream",
          "name": "stdout",
          "text": [
            "12\n"
          ]
        }
      ]
    },
    {
      "cell_type": "code",
      "source": [
        "# Review Question 5\n",
        "myvar = 'hello'\n",
        "print (myvar.upper())"
      ],
      "metadata": {
        "colab": {
          "base_uri": "https://localhost:8080/"
        },
        "id": "YiiRD92xhM1L",
        "outputId": "de8dd6fb-21e1-4b29-d490-458ea992fcc0"
      },
      "execution_count": null,
      "outputs": [
        {
          "output_type": "stream",
          "name": "stdout",
          "text": [
            "HELLO\n"
          ]
        }
      ]
    },
    {
      "cell_type": "markdown",
      "source": [
        "# ***Module 2 - Python Data Structures***"
      ],
      "metadata": {
        "id": "oifG7vTabMcb"
      }
    },
    {
      "cell_type": "markdown",
      "source": [
        "**1. Lists and Tuples**"
      ],
      "metadata": {
        "id": "rsCHq5Uv6LgP"
      }
    },
    {
      "cell_type": "code",
      "source": [
        "# Question 1\n",
        "A=(0,1,2,3)\n",
        "print (A[3])\n",
        "print (A[-1])"
      ],
      "metadata": {
        "colab": {
          "base_uri": "https://localhost:8080/"
        },
        "id": "hLneybgH7R82",
        "outputId": "ad54b86a-d352-491b-8ec1-6e44ad9f2371"
      },
      "execution_count": null,
      "outputs": [
        {
          "output_type": "stream",
          "name": "stdout",
          "text": [
            "3\n",
            "3\n"
          ]
        }
      ]
    },
    {
      "cell_type": "code",
      "source": [
        "# Question 2\n",
        "B=[\"a\",\"b\",\"c\"]\n",
        "B[1:]"
      ],
      "metadata": {
        "colab": {
          "base_uri": "https://localhost:8080/"
        },
        "id": "44T9SZmk7xCz",
        "outputId": "51fd3e24-788f-4825-dbc1-26ba971e254e"
      },
      "execution_count": null,
      "outputs": [
        {
          "output_type": "execute_result",
          "data": {
            "text/plain": [
              "['b', 'c']"
            ]
          },
          "metadata": {},
          "execution_count": 65
        }
      ]
    },
    {
      "cell_type": "markdown",
      "source": [
        "**2. Sets**"
      ],
      "metadata": {
        "id": "JryIWrO-6yfc"
      }
    },
    {
      "cell_type": "code",
      "source": [
        "# Question 1\n",
        "S={'A','B','C'}\n",
        "U={'A','Z','C'}\n",
        "U.union(S)"
      ],
      "metadata": {
        "colab": {
          "base_uri": "https://localhost:8080/"
        },
        "id": "9eOy-TzLnDJZ",
        "outputId": "41c30962-c2b7-4f77-9694-54666915aacc"
      },
      "execution_count": null,
      "outputs": [
        {
          "output_type": "execute_result",
          "data": {
            "text/plain": [
              "{'A', 'B', 'C', 'Z'}"
            ]
          },
          "metadata": {},
          "execution_count": 66
        }
      ]
    },
    {
      "cell_type": "code",
      "source": [
        "# Question 2\n",
        "S={'A','B','C'}\n",
        "U={'A','Z','C'}\n",
        "S.intersection(U)"
      ],
      "metadata": {
        "colab": {
          "base_uri": "https://localhost:8080/"
        },
        "id": "GGfTsLihnYlE",
        "outputId": "80d56436-baff-442e-eb53-53e94628469d"
      },
      "execution_count": null,
      "outputs": [
        {
          "output_type": "execute_result",
          "data": {
            "text/plain": [
              "{'A', 'C'}"
            ]
          },
          "metadata": {},
          "execution_count": 67
        }
      ]
    },
    {
      "cell_type": "markdown",
      "source": [
        "**3. Dictionaries**"
      ],
      "metadata": {
        "id": "ZacodgkR6yuG"
      }
    },
    {
      "cell_type": "code",
      "source": [
        "# Question 1\n",
        "D = {'a':0,'b':1,'c':2}\n",
        "D.values()"
      ],
      "metadata": {
        "colab": {
          "base_uri": "https://localhost:8080/"
        },
        "id": "zBWlIXPQoDvj",
        "outputId": "95936465-d068-4658-ba2a-2ca1a05f2002"
      },
      "execution_count": null,
      "outputs": [
        {
          "output_type": "execute_result",
          "data": {
            "text/plain": [
              "dict_values([0, 1, 2])"
            ]
          },
          "metadata": {},
          "execution_count": 68
        }
      ]
    },
    {
      "cell_type": "code",
      "source": [
        "# Question 2\n",
        "D = {'a':0,'b':1,'c':2}\n",
        "D['b']"
      ],
      "metadata": {
        "colab": {
          "base_uri": "https://localhost:8080/"
        },
        "id": "ZFkbiZX6pyz9",
        "outputId": "8943f908-00fa-432a-fc33-51f9c31fefcd"
      },
      "execution_count": null,
      "outputs": [
        {
          "output_type": "execute_result",
          "data": {
            "text/plain": [
              "1"
            ]
          },
          "metadata": {},
          "execution_count": 69
        }
      ]
    },
    {
      "cell_type": "markdown",
      "source": [
        "**4. Review Question**"
      ],
      "metadata": {
        "id": "A6A_xlkQtA70"
      }
    },
    {
      "cell_type": "code",
      "source": [
        "# Review Question 1\n",
        "A = ('a','b','c')\n",
        "print (A[0])"
      ],
      "metadata": {
        "colab": {
          "base_uri": "https://localhost:8080/"
        },
        "id": "HBRsBgI1tQfI",
        "outputId": "d8a924ef-f2d8-4deb-f4d9-8e15c4bdf6fe"
      },
      "execution_count": null,
      "outputs": [
        {
          "output_type": "stream",
          "name": "stdout",
          "text": [
            "a\n"
          ]
        }
      ]
    },
    {
      "cell_type": "code",
      "source": [
        "# Review Question 4\n",
        "Dict={\"A\":1,\"B\":\"2\",\"C\":[3,3,3],\"D\":(4,4,4),'E':5,'F':6}\n",
        "Dict[\"D\"]"
      ],
      "metadata": {
        "colab": {
          "base_uri": "https://localhost:8080/"
        },
        "id": "_CrqroxQFoJn",
        "outputId": "6177a992-aba7-4d5e-cfe5-439ba695d0d0"
      },
      "execution_count": null,
      "outputs": [
        {
          "output_type": "execute_result",
          "data": {
            "text/plain": [
              "(4, 4, 4)"
            ]
          },
          "metadata": {},
          "execution_count": 71
        }
      ]
    },
    {
      "cell_type": "markdown",
      "source": [
        "# ***Module 3 - Python Programming Fundamentals***"
      ],
      "metadata": {
        "id": "GZ9_Kd9NF7mr"
      }
    },
    {
      "cell_type": "markdown",
      "source": [
        "**1. Conditions and Branching**"
      ],
      "metadata": {
        "id": "mwQhA2jNJKtN"
      }
    },
    {
      "cell_type": "code",
      "source": [
        "# Question 2\n",
        "x='a'\n",
        "if(x!='a'):\n",
        "  print(\"This is not a.\")\n",
        "else:\n",
        "  print(\"This is a.\")"
      ],
      "metadata": {
        "colab": {
          "base_uri": "https://localhost:8080/"
        },
        "id": "9J9nobWYJmyp",
        "outputId": "94b799cc-3d8a-49e2-bcfe-cac6b768c914"
      },
      "execution_count": null,
      "outputs": [
        {
          "output_type": "stream",
          "name": "stdout",
          "text": [
            "This is a.\n"
          ]
        }
      ]
    },
    {
      "cell_type": "markdown",
      "source": [
        "**2. Loops**"
      ],
      "metadata": {
        "id": "oTMVZad8JMyI"
      }
    },
    {
      "cell_type": "code",
      "source": [
        "# Question 1\n",
        "A=[3,4,5]\n",
        "for a in A:\n",
        "  print(a)"
      ],
      "metadata": {
        "colab": {
          "base_uri": "https://localhost:8080/"
        },
        "id": "B_rZ49fFJlT-",
        "outputId": "8d988211-0fa4-4cd4-ec45-0e0cf8d0d38b"
      },
      "execution_count": null,
      "outputs": [
        {
          "output_type": "stream",
          "name": "stdout",
          "text": [
            "3\n",
            "4\n",
            "5\n"
          ]
        }
      ]
    },
    {
      "cell_type": "code",
      "source": [
        "# Question 2\n",
        "x=3\n",
        "y=1\n",
        "while(y!=x):\n",
        "  print(y)\n",
        "  y=y+1"
      ],
      "metadata": {
        "colab": {
          "base_uri": "https://localhost:8080/"
        },
        "id": "vaJk-pj1JoJQ",
        "outputId": "aa127308-dbf4-49c7-eb9a-d3398e8ba37a"
      },
      "execution_count": null,
      "outputs": [
        {
          "output_type": "stream",
          "name": "stdout",
          "text": [
            "1\n",
            "2\n"
          ]
        }
      ]
    },
    {
      "cell_type": "markdown",
      "source": [
        "**3. Functions**"
      ],
      "metadata": {
        "id": "qKAe2EPAJM6Y"
      }
    },
    {
      "cell_type": "code",
      "source": [
        "# Question 1\n",
        "a=1\n",
        "def add(b):\n",
        "  return a+b\n",
        "c=add(10)\n",
        "print(c)"
      ],
      "metadata": {
        "colab": {
          "base_uri": "https://localhost:8080/"
        },
        "id": "V8bm-robJpN-",
        "outputId": "0738c8b9-1bc2-4e35-ace6-c9753b436ba5"
      },
      "execution_count": null,
      "outputs": [
        {
          "output_type": "stream",
          "name": "stdout",
          "text": [
            "11\n"
          ]
        }
      ]
    },
    {
      "cell_type": "code",
      "source": [
        "# Question 2\n",
        "def f(*x):\n",
        "  return sum(x)"
      ],
      "metadata": {
        "id": "fnH8lIPDJqKf"
      },
      "execution_count": null,
      "outputs": []
    },
    {
      "cell_type": "markdown",
      "source": [
        "**4. Objects and Classes**"
      ],
      "metadata": {
        "id": "EYtNIPoIJNAS"
      }
    },
    {
      "cell_type": "code",
      "source": [
        "# Question 1\n",
        "class Car:\n",
        "    def __init__(self, make, model, color):\n",
        "        self.make = make\n",
        "        self.model = model\n",
        "        self.color = color\n",
        "\n",
        "car = Car(\"Honda\", \"Accord\", \"blue\")"
      ],
      "metadata": {
        "id": "Jdnt7liwQBt4"
      },
      "execution_count": null,
      "outputs": []
    },
    {
      "cell_type": "markdown",
      "source": [
        "**5. Review Question**"
      ],
      "metadata": {
        "id": "tvddLsMxJNw9"
      }
    },
    {
      "cell_type": "code",
      "source": [
        "# Review Questions 1\n",
        "x=1\n",
        "if(x!=1):\n",
        "  print('Hello')\n",
        "else:\n",
        "  print('Hi')\n",
        "print('Mike')"
      ],
      "metadata": {
        "colab": {
          "base_uri": "https://localhost:8080/"
        },
        "id": "-Pm9bLqjSd9r",
        "outputId": "43c4b657-89b2-4f51-8861-26b851519ae0"
      },
      "execution_count": null,
      "outputs": [
        {
          "output_type": "stream",
          "name": "stdout",
          "text": [
            "Hi\n",
            "Mike\n"
          ]
        }
      ]
    },
    {
      "cell_type": "code",
      "source": [
        "# Review Questions 2\n",
        "A = ['1','2','3']\n",
        "for a in A:\n",
        "  print(2*a)"
      ],
      "metadata": {
        "colab": {
          "base_uri": "https://localhost:8080/"
        },
        "id": "QZ1O7JYOSqkl",
        "outputId": "0a2a8e34-4026-4fc8-8205-c3508dfad627"
      },
      "execution_count": null,
      "outputs": [
        {
          "output_type": "stream",
          "name": "stdout",
          "text": [
            "11\n",
            "22\n",
            "33\n"
          ]
        }
      ]
    },
    {
      "cell_type": "code",
      "source": [
        "# Review Questions 3\n",
        "def Delta(x):\n",
        "  if x==0:\n",
        "    y=1;\n",
        "  else:\n",
        "    y=0;\n",
        "  return(y)"
      ],
      "metadata": {
        "id": "6Ac63R_eS3ua"
      },
      "execution_count": null,
      "outputs": []
    },
    {
      "cell_type": "code",
      "source": [
        "# Review Questions 4\n",
        "B.sort()"
      ],
      "metadata": {
        "id": "SBI9BKXqUVkG"
      },
      "execution_count": null,
      "outputs": []
    },
    {
      "cell_type": "markdown",
      "source": [
        "# ***Module 4 - Working with Data in Python***"
      ],
      "metadata": {
        "id": "E-RA6ctKXh7n"
      }
    },
    {
      "cell_type": "markdown",
      "source": [
        "**3. Loading Data with Pandas**"
      ],
      "metadata": {
        "id": "EgP5mU1fXyEn"
      }
    },
    {
      "cell_type": "code",
      "source": [
        "# Question 2\n",
        "import pandas as banana\n",
        "df=banana.DataFrame({'a':[11,21,31],'b':[21,22,23]})\n",
        "df.head()"
      ],
      "metadata": {
        "colab": {
          "base_uri": "https://localhost:8080/"
        },
        "id": "TH_4MNlhXbuF",
        "outputId": "cdedb225-560a-4814-f1f0-7af40d243934"
      },
      "execution_count": null,
      "outputs": [
        {
          "output_type": "execute_result",
          "data": {
            "text/plain": [
              "    a   b\n",
              "0  11  21\n",
              "1  21  22\n",
              "2  31  23"
            ],
            "text/html": [
              "\n",
              "  <div id=\"df-a06fbe58-a54a-48b1-920c-51236c39051f\">\n",
              "    <div class=\"colab-df-container\">\n",
              "      <div>\n",
              "<style scoped>\n",
              "    .dataframe tbody tr th:only-of-type {\n",
              "        vertical-align: middle;\n",
              "    }\n",
              "\n",
              "    .dataframe tbody tr th {\n",
              "        vertical-align: top;\n",
              "    }\n",
              "\n",
              "    .dataframe thead th {\n",
              "        text-align: right;\n",
              "    }\n",
              "</style>\n",
              "<table border=\"1\" class=\"dataframe\">\n",
              "  <thead>\n",
              "    <tr style=\"text-align: right;\">\n",
              "      <th></th>\n",
              "      <th>a</th>\n",
              "      <th>b</th>\n",
              "    </tr>\n",
              "  </thead>\n",
              "  <tbody>\n",
              "    <tr>\n",
              "      <th>0</th>\n",
              "      <td>11</td>\n",
              "      <td>21</td>\n",
              "    </tr>\n",
              "    <tr>\n",
              "      <th>1</th>\n",
              "      <td>21</td>\n",
              "      <td>22</td>\n",
              "    </tr>\n",
              "    <tr>\n",
              "      <th>2</th>\n",
              "      <td>31</td>\n",
              "      <td>23</td>\n",
              "    </tr>\n",
              "  </tbody>\n",
              "</table>\n",
              "</div>\n",
              "      <button class=\"colab-df-convert\" onclick=\"convertToInteractive('df-a06fbe58-a54a-48b1-920c-51236c39051f')\"\n",
              "              title=\"Convert this dataframe to an interactive table.\"\n",
              "              style=\"display:none;\">\n",
              "        \n",
              "  <svg xmlns=\"http://www.w3.org/2000/svg\" height=\"24px\"viewBox=\"0 0 24 24\"\n",
              "       width=\"24px\">\n",
              "    <path d=\"M0 0h24v24H0V0z\" fill=\"none\"/>\n",
              "    <path d=\"M18.56 5.44l.94 2.06.94-2.06 2.06-.94-2.06-.94-.94-2.06-.94 2.06-2.06.94zm-11 1L8.5 8.5l.94-2.06 2.06-.94-2.06-.94L8.5 2.5l-.94 2.06-2.06.94zm10 10l.94 2.06.94-2.06 2.06-.94-2.06-.94-.94-2.06-.94 2.06-2.06.94z\"/><path d=\"M17.41 7.96l-1.37-1.37c-.4-.4-.92-.59-1.43-.59-.52 0-1.04.2-1.43.59L10.3 9.45l-7.72 7.72c-.78.78-.78 2.05 0 2.83L4 21.41c.39.39.9.59 1.41.59.51 0 1.02-.2 1.41-.59l7.78-7.78 2.81-2.81c.8-.78.8-2.07 0-2.86zM5.41 20L4 18.59l7.72-7.72 1.47 1.35L5.41 20z\"/>\n",
              "  </svg>\n",
              "      </button>\n",
              "      \n",
              "  <style>\n",
              "    .colab-df-container {\n",
              "      display:flex;\n",
              "      flex-wrap:wrap;\n",
              "      gap: 12px;\n",
              "    }\n",
              "\n",
              "    .colab-df-convert {\n",
              "      background-color: #E8F0FE;\n",
              "      border: none;\n",
              "      border-radius: 50%;\n",
              "      cursor: pointer;\n",
              "      display: none;\n",
              "      fill: #1967D2;\n",
              "      height: 32px;\n",
              "      padding: 0 0 0 0;\n",
              "      width: 32px;\n",
              "    }\n",
              "\n",
              "    .colab-df-convert:hover {\n",
              "      background-color: #E2EBFA;\n",
              "      box-shadow: 0px 1px 2px rgba(60, 64, 67, 0.3), 0px 1px 3px 1px rgba(60, 64, 67, 0.15);\n",
              "      fill: #174EA6;\n",
              "    }\n",
              "\n",
              "    [theme=dark] .colab-df-convert {\n",
              "      background-color: #3B4455;\n",
              "      fill: #D2E3FC;\n",
              "    }\n",
              "\n",
              "    [theme=dark] .colab-df-convert:hover {\n",
              "      background-color: #434B5C;\n",
              "      box-shadow: 0px 1px 3px 1px rgba(0, 0, 0, 0.15);\n",
              "      filter: drop-shadow(0px 1px 2px rgba(0, 0, 0, 0.3));\n",
              "      fill: #FFFFFF;\n",
              "    }\n",
              "  </style>\n",
              "\n",
              "      <script>\n",
              "        const buttonEl =\n",
              "          document.querySelector('#df-a06fbe58-a54a-48b1-920c-51236c39051f button.colab-df-convert');\n",
              "        buttonEl.style.display =\n",
              "          google.colab.kernel.accessAllowed ? 'block' : 'none';\n",
              "\n",
              "        async function convertToInteractive(key) {\n",
              "          const element = document.querySelector('#df-a06fbe58-a54a-48b1-920c-51236c39051f');\n",
              "          const dataTable =\n",
              "            await google.colab.kernel.invokeFunction('convertToInteractive',\n",
              "                                                     [key], {});\n",
              "          if (!dataTable) return;\n",
              "\n",
              "          const docLinkHtml = 'Like what you see? Visit the ' +\n",
              "            '<a target=\"_blank\" href=https://colab.research.google.com/notebooks/data_table.ipynb>data table notebook</a>'\n",
              "            + ' to learn more about interactive tables.';\n",
              "          element.innerHTML = '';\n",
              "          dataTable['output_type'] = 'display_data';\n",
              "          await google.colab.output.renderOutput(dataTable, element);\n",
              "          const docLink = document.createElement('div');\n",
              "          docLink.innerHTML = docLinkHtml;\n",
              "          element.appendChild(docLink);\n",
              "        }\n",
              "      </script>\n",
              "    </div>\n",
              "  </div>\n",
              "  "
            ]
          },
          "metadata": {},
          "execution_count": 82
        }
      ]
    },
    {
      "cell_type": "markdown",
      "source": [
        "# ***Final Exam***"
      ],
      "metadata": {
        "id": "gvBpxxhRgnjZ"
      }
    },
    {
      "cell_type": "code",
      "source": [
        "# Exam 1\n",
        "print(3 + 2 * 2)"
      ],
      "metadata": {
        "colab": {
          "base_uri": "https://localhost:8080/"
        },
        "id": "PGmIimVCg0_G",
        "outputId": "df8811f8-b756-407f-b819-a49ab5d36f6f"
      },
      "execution_count": null,
      "outputs": [
        {
          "output_type": "stream",
          "name": "stdout",
          "text": [
            "7\n"
          ]
        }
      ]
    },
    {
      "cell_type": "code",
      "source": [
        "# Exam 3\n",
        "print(int(3.2))"
      ],
      "metadata": {
        "colab": {
          "base_uri": "https://localhost:8080/"
        },
        "id": "xIXmEBC8hCZD",
        "outputId": "91fda943-9f3f-460c-9856-581f547edf2e"
      },
      "execution_count": null,
      "outputs": [
        {
          "output_type": "stream",
          "name": "stdout",
          "text": [
            "3\n"
          ]
        }
      ]
    },
    {
      "cell_type": "code",
      "source": [
        "# Exam 4\n",
        "A='1234567'\n",
        "A[1::2]"
      ],
      "metadata": {
        "colab": {
          "base_uri": "https://localhost:8080/"
        },
        "id": "3RnE397rhI5P",
        "outputId": "e3efed65-fbfe-46f1-d33a-c77a10875acf"
      },
      "execution_count": null,
      "outputs": [
        {
          "output_type": "execute_result",
          "data": {
            "text/plain": [
              "'246'"
            ],
            "application/vnd.google.colaboratory.intrinsic+json": {
              "type": "string"
            }
          },
          "metadata": {},
          "execution_count": 85
        }
      ]
    },
    {
      "cell_type": "code",
      "source": [
        "# Exam 5\n",
        "name='Michael Jackson'\n",
        "name.find('el')"
      ],
      "metadata": {
        "colab": {
          "base_uri": "https://localhost:8080/"
        },
        "id": "T34jRLk2hOV3",
        "outputId": "dfa98dbc-f9f0-4a0a-ba9b-b6e09a3ba395"
      },
      "execution_count": null,
      "outputs": [
        {
          "output_type": "execute_result",
          "data": {
            "text/plain": [
              "5"
            ]
          },
          "metadata": {},
          "execution_count": 86
        }
      ]
    },
    {
      "cell_type": "code",
      "source": [
        "# Exam 6\n",
        "A='1'\n",
        "B='2'\n",
        "A+B"
      ],
      "metadata": {
        "colab": {
          "base_uri": "https://localhost:8080/"
        },
        "id": "7Wp7cHzIhUDd",
        "outputId": "6c815eb8-fe9e-4b2d-db26-419f1ac14303"
      },
      "execution_count": null,
      "outputs": [
        {
          "output_type": "execute_result",
          "data": {
            "text/plain": [
              "'12'"
            ],
            "application/vnd.google.colaboratory.intrinsic+json": {
              "type": "string"
            }
          },
          "metadata": {},
          "execution_count": 87
        }
      ]
    },
    {
      "cell_type": "code",
      "source": [
        "# Exam 7\n",
        "F='You are wrong'\n",
        "print(F.upper())"
      ],
      "metadata": {
        "colab": {
          "base_uri": "https://localhost:8080/"
        },
        "id": "3UpvgNNwhXVG",
        "outputId": "9dd4b765-7580-4ba1-b999-ad48a5ec80eb"
      },
      "execution_count": null,
      "outputs": [
        {
          "output_type": "stream",
          "name": "stdout",
          "text": [
            "YOU ARE WRONG\n"
          ]
        }
      ]
    },
    {
      "cell_type": "code",
      "source": [
        "# Exam 8\n",
        "x=['A', 'B', 'C']\n",
        "x[-1]"
      ],
      "metadata": {
        "colab": {
          "base_uri": "https://localhost:8080/"
        },
        "id": "fyZzbF7thlI8",
        "outputId": "e79e8c72-fada-4b19-df3c-80c5ff9f9f8e"
      },
      "execution_count": null,
      "outputs": [
        {
          "output_type": "execute_result",
          "data": {
            "text/plain": [
              "'C'"
            ],
            "application/vnd.google.colaboratory.intrinsic+json": {
              "type": "string"
            }
          },
          "metadata": {},
          "execution_count": 89
        }
      ]
    },
    {
      "cell_type": "code",
      "source": [
        "# Exam 9\n",
        "A=([11,12],[21,22])\n",
        "print(A[1])"
      ],
      "metadata": {
        "colab": {
          "base_uri": "https://localhost:8080/"
        },
        "id": "gfnDfapOhpxo",
        "outputId": "120871ac-b391-4566-c871-a3102f627b15"
      },
      "execution_count": null,
      "outputs": [
        {
          "output_type": "stream",
          "name": "stdout",
          "text": [
            "[21, 22]\n"
          ]
        }
      ]
    },
    {
      "cell_type": "code",
      "source": [
        "# Exam 10\n",
        "A=([11,12],[21,22])\n",
        "print(A[0][1])"
      ],
      "metadata": {
        "colab": {
          "base_uri": "https://localhost:8080/"
        },
        "id": "pq5bs_RrhtzQ",
        "outputId": "b3f20868-f651-4f4c-bca3-c1217ef718ad"
      },
      "execution_count": null,
      "outputs": [
        {
          "output_type": "stream",
          "name": "stdout",
          "text": [
            "12\n"
          ]
        }
      ]
    },
    {
      "cell_type": "code",
      "source": [
        "# Exam 11\n",
        "print('1,2,3,4'.split(','))"
      ],
      "metadata": {
        "colab": {
          "base_uri": "https://localhost:8080/"
        },
        "id": "FEyJEG8nhxzE",
        "outputId": "34e2e0a8-6fc0-408b-a2d9-4e04c6949dd1"
      },
      "execution_count": null,
      "outputs": [
        {
          "output_type": "stream",
          "name": "stdout",
          "text": [
            "['1', '2', '3', '4']\n"
          ]
        }
      ]
    },
    {
      "cell_type": "code",
      "source": [
        "# Exam 12\n",
        "A=[1,'a']\n",
        "B=[2,1,'d']\n",
        "print(A+B)"
      ],
      "metadata": {
        "colab": {
          "base_uri": "https://localhost:8080/"
        },
        "id": "TkkLFIx0h0Sy",
        "outputId": "a7708965-1f1a-48c4-fcbf-fd5202d7999b"
      },
      "execution_count": null,
      "outputs": [
        {
          "output_type": "stream",
          "name": "stdout",
          "text": [
            "[1, 'a', 2, 1, 'd']\n"
          ]
        }
      ]
    },
    {
      "cell_type": "code",
      "source": [
        "# Exam 14\n",
        "V={'A','B'}\n",
        "V.add('C')\n",
        "print (V)"
      ],
      "metadata": {
        "colab": {
          "base_uri": "https://localhost:8080/"
        },
        "id": "mAAAaQ_wh3OM",
        "outputId": "2a619171-0bb6-4627-d581-9b5e099e9546"
      },
      "execution_count": null,
      "outputs": [
        {
          "output_type": "stream",
          "name": "stdout",
          "text": [
            "{'A', 'B', 'C'}\n"
          ]
        }
      ]
    },
    {
      "cell_type": "code",
      "source": [
        "# Exam 15\n",
        "V={'A','B', 'C'}\n",
        "V.add('C')\n",
        "print (V)"
      ],
      "metadata": {
        "colab": {
          "base_uri": "https://localhost:8080/"
        },
        "id": "EFUL_hk1h6mP",
        "outputId": "ba24ac02-9307-4224-a775-c7e1a544d59d"
      },
      "execution_count": null,
      "outputs": [
        {
          "output_type": "stream",
          "name": "stdout",
          "text": [
            "{'A', 'B', 'C'}\n"
          ]
        }
      ]
    },
    {
      "cell_type": "code",
      "source": [
        "# Exam 16\n",
        "x='go'\n",
        "if(x!='go'):\n",
        "  print('stop')\n",
        "else:\n",
        "  print('go')\n",
        "print('mike')"
      ],
      "metadata": {
        "colab": {
          "base_uri": "https://localhost:8080/"
        },
        "id": "1moAjYLXh-dh",
        "outputId": "f0d2a1ae-8042-4703-befd-cb80e1d3638e"
      },
      "execution_count": null,
      "outputs": [
        {
          "output_type": "stream",
          "name": "stdout",
          "text": [
            "go\n",
            "mike\n"
          ]
        }
      ]
    },
    {
      "cell_type": "code",
      "source": [
        "# Exam 17\n",
        "x='go'\n",
        "if(x=='go'):\n",
        "  print('go')\n",
        "else:\n",
        "\n",
        "  print('stop')\n",
        "print('mike')"
      ],
      "metadata": {
        "colab": {
          "base_uri": "https://localhost:8080/"
        },
        "id": "rvxls4dPiB4X",
        "outputId": "e53b8653-0a61-414d-a6ac-d33eee758325"
      },
      "execution_count": null,
      "outputs": [
        {
          "output_type": "stream",
          "name": "stdout",
          "text": [
            "go\n",
            "mike\n"
          ]
        }
      ]
    },
    {
      "cell_type": "code",
      "source": [
        "# Exam 18\n",
        "for n in range(3):\n",
        "  print(n)"
      ],
      "metadata": {
        "colab": {
          "base_uri": "https://localhost:8080/"
        },
        "id": "kf41Ff-img_k",
        "outputId": "5a94501b-e688-4bdd-a43c-7e091aea568b"
      },
      "execution_count": null,
      "outputs": [
        {
          "output_type": "stream",
          "name": "stdout",
          "text": [
            "0\n",
            "1\n",
            "2\n"
          ]
        }
      ]
    },
    {
      "cell_type": "code",
      "source": [
        "# Exam 19\n",
        "for n in range(3):\n",
        "  print(n+1)"
      ],
      "metadata": {
        "colab": {
          "base_uri": "https://localhost:8080/"
        },
        "id": "jzrwYp74mVEf",
        "outputId": "f698c5ae-7498-41dc-e5c3-a64027f3b060"
      },
      "execution_count": null,
      "outputs": [
        {
          "output_type": "stream",
          "name": "stdout",
          "text": [
            "1\n",
            "2\n",
            "3\n"
          ]
        }
      ]
    },
    {
      "cell_type": "code",
      "source": [
        "# Exam 20\n",
        "A=['1','2','3']\n",
        "for a in A:\n",
        "  print(2*a)"
      ],
      "metadata": {
        "colab": {
          "base_uri": "https://localhost:8080/"
        },
        "id": "BlyemuwtiG4R",
        "outputId": "96ccf9ac-5b7d-4295-c901-22d06416d482"
      },
      "execution_count": null,
      "outputs": [
        {
          "output_type": "stream",
          "name": "stdout",
          "text": [
            "11\n",
            "22\n",
            "33\n"
          ]
        }
      ]
    },
    {
      "cell_type": "code",
      "source": [
        "# Exam 21\n",
        "def Add(x,y):\n",
        "  z=y+x\n",
        "  return(y)\n",
        "a=Add(1,1)\n",
        "a"
      ],
      "metadata": {
        "colab": {
          "base_uri": "https://localhost:8080/"
        },
        "id": "DRh2Je-XiNnl",
        "outputId": "150676cf-ca4e-4793-8576-527b3f0af516"
      },
      "execution_count": null,
      "outputs": [
        {
          "output_type": "execute_result",
          "data": {
            "text/plain": [
              "1"
            ]
          },
          "metadata": {},
          "execution_count": 101
        }
      ]
    },
    {
      "cell_type": "code",
      "source": [
        "# Exam 22\n",
        "class Points(object):\n",
        "  def __init__(self,x,y):\n",
        "    self.x=x\n",
        "    self.y=y\n",
        "  def print_point(self):\n",
        "    print('x=',self.x,'y=',self.y)"
      ],
      "metadata": {
        "id": "Mp2B5cGPiSOp"
      },
      "execution_count": null,
      "outputs": []
    },
    {
      "cell_type": "code",
      "source": [
        "# Exam 23\n",
        "class Points(object):\n",
        "  def __init__(self,x,y):\n",
        "    self.x=x\n",
        "    self.y=y\n",
        "  def print_point(self):\n",
        "    print('x=',self.x,'y=',self.y)\n",
        "p1=Points(1,2)\n",
        "p1.print_point()"
      ],
      "metadata": {
        "colab": {
          "base_uri": "https://localhost:8080/"
        },
        "id": "TuTxn38QiZzU",
        "outputId": "99d6ea4c-0f57-4587-8a7b-41cd4e7ebe3d"
      },
      "execution_count": null,
      "outputs": [
        {
          "output_type": "stream",
          "name": "stdout",
          "text": [
            "x= 1 y= 2\n"
          ]
        }
      ]
    },
    {
      "cell_type": "code",
      "source": [
        "# Exam 24\n",
        "class Points(object):\n",
        "  def __init__(self,x,y):\n",
        "    self.x=x\n",
        "    self.y=y\n",
        "  def print_point(self):\n",
        "    print('x=',self.x,'y=',self.y)\n",
        "p2=Points(1,2)\n",
        "p2.x=2\n",
        "p2.print_point()"
      ],
      "metadata": {
        "colab": {
          "base_uri": "https://localhost:8080/"
        },
        "id": "0QseojLDlkQ5",
        "outputId": "b91484bf-79d9-4f85-d683-174bd22264c1"
      },
      "execution_count": null,
      "outputs": [
        {
          "output_type": "stream",
          "name": "stdout",
          "text": [
            "x= 2 y= 2\n"
          ]
        }
      ]
    }
  ]
}