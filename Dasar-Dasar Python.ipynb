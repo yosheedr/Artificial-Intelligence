{
  "cells": [
    {
      "cell_type": "code",
      "execution_count": null,
      "metadata": {
        "id": "6aOOl9apIYg-"
      },
      "outputs": [],
      "source": [
        "#ini komen"
      ]
    },
    {
      "cell_type": "code",
      "execution_count": null,
      "metadata": {
        "colab": {
          "base_uri": "https://localhost:8080/"
        },
        "id": "fahvw0WKJAEF",
        "outputId": "0bca3629-e73a-46ac-f464-4b1506c3f511"
      },
      "outputs": [
        {
          "name": "stdout",
          "output_type": "stream",
          "text": [
            "10 30\n"
          ]
        }
      ],
      "source": [
        "panjang1 = 10\n",
        "panjang2 = 30\n",
        "\n",
        "print (panjang1, panjang2)"
      ]
    },
    {
      "cell_type": "code",
      "execution_count": null,
      "metadata": {
        "colab": {
          "base_uri": "https://localhost:8080/"
        },
        "id": "C46C37MEJaNk",
        "outputId": "f570f86f-7905-4da3-f2ab-074b1b6fac2c"
      },
      "outputs": [
        {
          "name": "stdout",
          "output_type": "stream",
          "text": [
            "ini coba tentang fungsi aku dan kamu2\n",
            "ini adalah kamu\n"
          ]
        }
      ],
      "source": [
        "x = \"aku\"\n",
        "y = \"kamu\" #variabel global\n",
        "\n",
        "def inifungsi():\n",
        "  y = \"kamu2\" #variabel lokal\n",
        "  print (\"ini coba tentang fungsi \" + x + \" dan \" + y)\n",
        "\n",
        "inifungsi()\n",
        "print (\"ini adalah \" + y )"
      ]
    },
    {
      "cell_type": "code",
      "execution_count": null,
      "metadata": {
        "colab": {
          "base_uri": "https://localhost:8080/"
        },
        "id": "Ym5syYCPLxFv",
        "outputId": "2c2d45cb-17b3-4844-dcff-35f4c69a5f60"
      },
      "outputs": [
        {
          "name": "stdout",
          "output_type": "stream",
          "text": [
            "10\n"
          ]
        }
      ],
      "source": [
        "inilist = [\"kelas\",\"AI\",\"1\",\"10\"]\n",
        "print(inilist[-1])"
      ]
    },
    {
      "cell_type": "code",
      "execution_count": null,
      "metadata": {
        "colab": {
          "base_uri": "https://localhost:8080/"
        },
        "id": "aM2tGS-QOacl",
        "outputId": "02b08e0c-2a3a-45ad-f2f8-e24c93b44046"
      },
      "outputs": [
        {
          "name": "stdout",
          "output_type": "stream",
          "text": [
            "perulangan ke-0\n",
            "perulangan ke-1\n",
            "perulangan ke-2\n",
            "perulangan ke-3\n",
            "perulangan ke-4\n",
            "perulangan ke-5\n",
            "perulangan ke-6\n",
            "perulangan ke-7\n",
            "perulangan ke-8\n",
            "perulangan ke-9\n"
          ]
        }
      ],
      "source": [
        "#for indeks in range (banyak_perulangan):\n",
        "\n",
        "banyak = 10\n",
        "\n",
        "for i in range (banyak):\n",
        "  print (f\"perulangan ke-{i}\")\n",
        "#atau print (\"perulangan ke-\",i)"
      ]
    },
    {
      "cell_type": "code",
      "execution_count": null,
      "metadata": {
        "colab": {
          "base_uri": "https://localhost:8080/"
        },
        "id": "lpJHB7DfPyOX",
        "outputId": "ea1cf9c5-1188-469a-ff4c-de76b46929e0"
      },
      "outputs": [
        {
          "name": "stdout",
          "output_type": "stream",
          "text": [
            "kucing\n",
            "kura-kura\n",
            "anjing\n"
          ]
        }
      ],
      "source": [
        "hewan = [\"kucing\",\"kura-kura\",\"anjing\"]\n",
        "for i in range(len(hewan)):\n",
        "  print (hewan[i])"
      ]
    },
    {
      "cell_type": "code",
      "execution_count": null,
      "metadata": {
        "colab": {
          "base_uri": "https://localhost:8080/"
        },
        "id": "unp4KsNsQzyA",
        "outputId": "d6102270-090f-492e-9f0f-7955d0fabc05"
      },
      "outputs": [
        {
          "output_type": "stream",
          "name": "stdout",
          "text": [
            "kucing\n",
            "kura-kura\n",
            "anjing\n"
          ]
        }
      ],
      "source": [
        "hewan = [\"kucing\",\"kura-kura\",\"anjing\"]\n",
        "count = 0\n",
        "while (count < len(hewan)):\n",
        "  print(hewan[count])\n",
        "  count += 1"
      ]
    },
    {
      "cell_type": "code",
      "execution_count": null,
      "metadata": {
        "colab": {
          "base_uri": "https://localhost:8080/"
        },
        "id": "OIU9tj6HS_Sk",
        "outputId": "0c41643a-0130-4855-e093-64ba1aaf51f6"
      },
      "outputs": [
        {
          "name": "stdout",
          "output_type": "stream",
          "text": [
            "masukkan nama anda : yoshe\n"
          ]
        }
      ],
      "source": [
        "nama = input(\"masukkan nama anda : \")"
      ]
    },
    {
      "cell_type": "code",
      "execution_count": null,
      "metadata": {
        "colab": {
          "base_uri": "https://localhost:8080/"
        },
        "id": "n_4zidkFTV64",
        "outputId": "375df9b7-c2d7-442e-c4c8-54c0704f0187"
      },
      "outputs": [
        {
          "output_type": "stream",
          "name": "stdout",
          "text": [
            "yoshe\n"
          ]
        }
      ],
      "source": [
        "print(nama)"
      ]
    },
    {
      "cell_type": "code",
      "source": [
        "string = \"\"\n",
        "bar = int (input(\"Masukkan Jumlah Karakter = \")) #membuat inputan jumlah karakter\n",
        "print ()\n",
        "\n",
        "#looping baris\n",
        "while bar >= 0: #kondisi dimana jumlah baris >=0\n",
        "\tkol = bar #syarat bahwa jumlah kolom = jumlah baris\n",
        "\n",
        "\t#looping kolom\n",
        "\twhile kol > 0: #kondisi dimana jumlah kolom >=0\n",
        "\t\tstring = string + \"\\U0001f601\" #program akan mencetak karakter emoji smile\n",
        "\t\tkol = kol - 1\n",
        "\n",
        "\tstring = string + \"\\n\" #untuk mencetak baris baru\n",
        "\tbar = bar - 1\n",
        "\n",
        "print (string)"
      ],
      "metadata": {
        "id": "mWCSbBzS-PSL"
      },
      "execution_count": null,
      "outputs": []
    },
    {
      "cell_type": "code",
      "execution_count": null,
      "metadata": {
        "id": "eFWRRRZEWEE_"
      },
      "outputs": [],
      "source": [
        "inc = 0\n",
        "for i in range(0,10)\n"
      ]
    }
  ],
  "metadata": {
    "colab": {
      "provenance": []
    },
    "kernelspec": {
      "display_name": "Python 3",
      "name": "python3"
    },
    "language_info": {
      "name": "python"
    }
  },
  "nbformat": 4,
  "nbformat_minor": 0
}