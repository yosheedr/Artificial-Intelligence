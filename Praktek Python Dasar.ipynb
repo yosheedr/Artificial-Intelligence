{
  "nbformat": 4,
  "nbformat_minor": 0,
  "metadata": {
    "colab": {
      "provenance": []
    },
    "kernelspec": {
      "name": "python3",
      "display_name": "Python 3"
    },
    "language_info": {
      "name": "python"
    }
  },
  "cells": [
    {
      "cell_type": "markdown",
      "source": [
        "# **Konsep OOP**"
      ],
      "metadata": {
        "id": "MkQmhsS41tLj"
      }
    },
    {
      "cell_type": "code",
      "execution_count": null,
      "metadata": {
        "id": "fUlfSBRZ0Yvj"
      },
      "outputs": [],
      "source": [
        "class Manusia :\n",
        "  \"\"\"Dasar kelas untuk semua Manusia\"\"\"\n",
        "  jumlah_manusia = 0\n",
        "\n",
        "  def __init__(self, nama, umur):\n",
        "    self.nama = nama\n",
        "    self.umur = umur\n",
        "    Manusia.jumlah_manusia += 1\n",
        "\n",
        "  def tampilkan_jumlah(self):\n",
        "    print(\"Total Manusia :\", Manusia.jumlah_manusia)\n",
        "\n",
        "  def tampilkan_profil(self):\n",
        "    print(\"Nama :\",self.nama)\n",
        "    print(\"Umur :\",self.umur)"
      ]
    },
    {
      "cell_type": "markdown",
      "source": [
        "# **Instansiasi Object**"
      ],
      "metadata": {
        "id": "Kyz2HtvN2vkf"
      }
    },
    {
      "cell_type": "code",
      "source": [
        "#Instansiasi Objek\n",
        "#Instansiasi Objek adalah pembuatan instance atau objek dari suatu kelas\n",
        "manusia=[]\n",
        "x = int(input(\"Masukkan Banyak DATA yang akan di input : \"))\n",
        "for i in range(x):\n",
        "  nama = input(\"Masukkan Nama : \")\n",
        "  umur = input(\"Masukkan Umur : \")\n",
        "  manusia.append(Manusia(nama,umur))\n",
        "\n",
        "\"\"\"manusia1=Manusia(\"ifan\",20)\n",
        "manusia2=Manusia(\"tessa\",20)\"\"\""
      ],
      "metadata": {
        "id": "AlnJaXM22y6F",
        "colab": {
          "base_uri": "https://localhost:8080/",
          "height": 89
        },
        "outputId": "8159d884-d961-44f9-9884-d1c86306980a"
      },
      "execution_count": null,
      "outputs": [
        {
          "name": "stdout",
          "output_type": "stream",
          "text": [
            "Masukkan Banyak DATA yang akan di input : 1\n",
            "Masukkan Nama : a\n",
            "Masukkan Umur : 1\n"
          ]
        },
        {
          "output_type": "execute_result",
          "data": {
            "text/plain": [
              "'manusia1=Manusia(\"ifan\",20)\\nmanusia2=Manusia(\"tessa\",20)'"
            ],
            "application/vnd.google.colaboratory.intrinsic+json": {
              "type": "string"
            }
          },
          "metadata": {},
          "execution_count": 2
        }
      ]
    },
    {
      "cell_type": "code",
      "source": [],
      "metadata": {
        "id": "zKeNY6WCJfRH"
      },
      "execution_count": null,
      "outputs": []
    },
    {
      "cell_type": "markdown",
      "source": [
        "# **Mengakses attribute object**"
      ],
      "metadata": {
        "id": "uAjXRuPT3JoS"
      }
    },
    {
      "cell_type": "code",
      "source": [
        "#mengakses atrribute Objek\n",
        "for i in range(len(manusia)):\n",
        "  manusia[i].tampilkan_profil()\n",
        "print(\"Total Manusia :\",Manusia.jumlah_manusia)\n",
        "\n",
        "\n",
        "\"\"\"manusia1.tampilkan_profil()\n",
        "manusia2.tampilkan_profil()\n",
        "print(\"Total Manusia :\",Manusia.jumlah_manusia)\"\"\""
      ],
      "metadata": {
        "colab": {
          "base_uri": "https://localhost:8080/"
        },
        "id": "iSeleX093N9n",
        "outputId": "a5058dd2-d64b-43cb-e30e-22d6033995c1"
      },
      "execution_count": null,
      "outputs": [
        {
          "output_type": "stream",
          "name": "stdout",
          "text": [
            "Nama : a\n",
            "Umur : 1\n",
            "Total Manusia : 1\n"
          ]
        }
      ]
    },
    {
      "cell_type": "markdown",
      "source": [
        "# **Pewarisan**"
      ],
      "metadata": {
        "id": "ps5evtz33oMM"
      }
    },
    {
      "cell_type": "code",
      "source": [
        "class mobil:\n",
        "  def __init__(self,warna,tahun,merek):\n",
        "    self.warna=warna\n",
        "    self.tahun=tahun\n",
        "    self.merek=merek\n",
        "  def cetaknama(self):\n",
        "    print(\"warnanya\",self.warna)\n",
        "    print(\"tahunnya\",self.tahun)\n",
        "    print(\"mereknya\",self.merek)\n",
        "\n",
        "class suv(mobil):\n",
        "  def __init__(self,warna,tahun,merek):\n",
        "    mobil.__init__(self,warna,tahun,merek)\n",
        "\n",
        "class mpv(mobil):\n",
        "  def __init__(self,warna,tahun,merek):\n",
        "    mobil.__init__(self,warna,tahun,merek)\n",
        "\n",
        "x=suv(\"hitam\",2022,\"mitshubishi (pajero)\")\n",
        "x.cetaknama()\n",
        "y=suv(\"merah\",2012,\"suzuki (grandmax)\")\n",
        "y.cetaknama()"
      ],
      "metadata": {
        "colab": {
          "base_uri": "https://localhost:8080/"
        },
        "id": "OtobAKuA3qRJ",
        "outputId": "816a24f6-9e28-4f8f-e932-3dc078f00602"
      },
      "execution_count": null,
      "outputs": [
        {
          "output_type": "stream",
          "name": "stdout",
          "text": [
            "warnanya hitam\n",
            "tahunnya 2022\n",
            "mereknya mitshubishi (pajero)\n",
            "warnanya merah\n",
            "tahunnya 2012\n",
            "mereknya suzuki (grandmax)\n"
          ]
        }
      ]
    },
    {
      "cell_type": "code",
      "source": [
        "#menambah properti kelas anak\n",
        "#menambah dan memanggil method dalam kelas anak\n",
        "class mobil:\n",
        "  def __init__(self,warna,tahun,merek):\n",
        "    self.warna=warna\n",
        "    self.tahun=tahun\n",
        "    self.merek=merek\n",
        "  def cetaknama(self):\n",
        "    print(\"warnanya\",self.warna)\n",
        "    print(\"tahunnya\",self.tahun)\n",
        "    print(\"mereknya\",self.merek)\n",
        "\n",
        "class suv(mobil):\n",
        "  def __init__(self,warna,tahun,merek):\n",
        "    mobil.__init__(self,warna,tahun,merek)\n",
        "    self.produk=\"pajero\"\n",
        "  def cetaksuv(self):\n",
        "    print(\"jenis suv\",self.produk)\n",
        "    print(\"warnanya\",self.warna)\n",
        "    print(\"tahunnya\",self.tahun)\n",
        "    print(\"mereknya\",self.merek)\n",
        "\n",
        "class mpv(mobil):\n",
        "  def __init__(self,warna,tahun,merek):\n",
        "    mobil.__init__(self,warna,tahun,merek)\n",
        "    self.produk=\"grandmax\"\n",
        "  def cetakmpv(self):\n",
        "    print(\"jenis suv\",self.produk)\n",
        "    print(\"warnanya\",self.warna)\n",
        "    print(\"tahunnya\",self.tahun)\n",
        "    print(\"mereknya\",self.merek)\n",
        "\n",
        "x=suv(\"hitam\",2022,\"mitshubishi\")\n",
        "y=mpv(\"merah\",2012,\"suzuki\")\n",
        "x.cetaksuv()\n",
        "y.cetakmpv()"
      ],
      "metadata": {
        "colab": {
          "base_uri": "https://localhost:8080/"
        },
        "id": "utbsuPJRIQIr",
        "outputId": "0b18f59b-3253-43f5-aaae-74a07843efcb"
      },
      "execution_count": null,
      "outputs": [
        {
          "output_type": "stream",
          "name": "stdout",
          "text": [
            "jenis suv pajero\n",
            "warnanya hitam\n",
            "tahunnya 2022\n",
            "mereknya mitshubishi\n",
            "jenis suv grandmax\n",
            "warnanya merah\n",
            "tahunnya 2012\n",
            "mereknya suzuki\n"
          ]
        }
      ]
    },
    {
      "cell_type": "markdown",
      "source": [
        "# **Overridding**"
      ],
      "metadata": {
        "id": "YS-IUAtF5-NE"
      }
    },
    {
      "cell_type": "code",
      "source": [
        "class Induk:\n",
        "  def my_method(self):\n",
        "    print(\"Memanggil metode induk\")\n",
        "\n",
        "class Anak(Induk):\n",
        "  def my_method(self):\n",
        "    print(\"memanggil metode anak\")\n",
        "\n",
        "c = Anak()\n",
        "c.my_method()"
      ],
      "metadata": {
        "colab": {
          "base_uri": "https://localhost:8080/"
        },
        "id": "RI8whp7m6ALg",
        "outputId": "e1c80432-8c2a-445d-b8fc-13cfc28af414"
      },
      "execution_count": null,
      "outputs": [
        {
          "output_type": "stream",
          "name": "stdout",
          "text": [
            "memanggil metode anak\n"
          ]
        }
      ]
    },
    {
      "cell_type": "markdown",
      "source": [
        "# **Overloading**"
      ],
      "metadata": {
        "id": "B-_sgXrA6ogk"
      }
    },
    {
      "cell_type": "code",
      "source": [
        "class Angka:\n",
        "  def __init__(self, angka):\n",
        "    self.angka = angka\n",
        "\n",
        "x1 = Angka(10)\n",
        "x2 = Angka(20)\n",
        "x1 + x2\n",
        "\n",
        "#Error di atas menyatakan kalau kelas Angka tidak bisa menjadi operand dari operator +."
      ],
      "metadata": {
        "colab": {
          "base_uri": "https://localhost:8080/",
          "height": 242
        },
        "id": "btEdCAGM6rkW",
        "outputId": "2322aeb2-34e3-4d4f-9465-094590999448"
      },
      "execution_count": null,
      "outputs": [
        {
          "output_type": "error",
          "ename": "TypeError",
          "evalue": "ignored",
          "traceback": [
            "\u001b[0;31m---------------------------------------------------------------------------\u001b[0m",
            "\u001b[0;31mTypeError\u001b[0m                                 Traceback (most recent call last)",
            "\u001b[0;32m<ipython-input-8-974747915c89>\u001b[0m in \u001b[0;36m<module>\u001b[0;34m\u001b[0m\n\u001b[1;32m      5\u001b[0m \u001b[0mx1\u001b[0m \u001b[0;34m=\u001b[0m \u001b[0mAngka\u001b[0m\u001b[0;34m(\u001b[0m\u001b[0;36m10\u001b[0m\u001b[0;34m)\u001b[0m\u001b[0;34m\u001b[0m\u001b[0;34m\u001b[0m\u001b[0m\n\u001b[1;32m      6\u001b[0m \u001b[0mx2\u001b[0m \u001b[0;34m=\u001b[0m \u001b[0mAngka\u001b[0m\u001b[0;34m(\u001b[0m\u001b[0;36m20\u001b[0m\u001b[0;34m)\u001b[0m\u001b[0;34m\u001b[0m\u001b[0;34m\u001b[0m\u001b[0m\n\u001b[0;32m----> 7\u001b[0;31m \u001b[0mx1\u001b[0m \u001b[0;34m+\u001b[0m \u001b[0mx2\u001b[0m\u001b[0;34m\u001b[0m\u001b[0;34m\u001b[0m\u001b[0m\n\u001b[0m\u001b[1;32m      8\u001b[0m \u001b[0;34m\u001b[0m\u001b[0m\n\u001b[1;32m      9\u001b[0m \u001b[0;31m#Error di atas menyatakan kalau kelas Angka tidak bisa menjadi operand dari operator +.\u001b[0m\u001b[0;34m\u001b[0m\u001b[0;34m\u001b[0m\u001b[0;34m\u001b[0m\u001b[0m\n",
            "\u001b[0;31mTypeError\u001b[0m: unsupported operand type(s) for +: 'Angka' and 'Angka'"
          ]
        }
      ]
    },
    {
      "cell_type": "code",
      "source": [
        "class Angka:\n",
        "  def __init__(self, angka):\n",
        "    self.angka = angka\n",
        "\n",
        "  def __add__(self, objek):\n",
        "    return self.angka + objek.angka\n",
        "\n",
        "x1 = Angka(10)\n",
        "x2 = Angka(20)\n",
        "\n",
        "print(x1 + x2)"
      ],
      "metadata": {
        "colab": {
          "base_uri": "https://localhost:8080/"
        },
        "id": "8AjIsqIEPL3-",
        "outputId": "af1e4ce4-b303-4a25-c424-839d178fabf4"
      },
      "execution_count": null,
      "outputs": [
        {
          "output_type": "stream",
          "name": "stdout",
          "text": [
            "30\n"
          ]
        }
      ]
    },
    {
      "cell_type": "markdown",
      "source": [
        "# **Menyembunyikan data**"
      ],
      "metadata": {
        "id": "DSZqQrtM7dpe"
      }
    },
    {
      "cell_type": "code",
      "source": [
        "class Counter:\n",
        "  __secret_count = 0\n",
        "\n",
        "  def count(self):\n",
        "    self.__secret_count += 1\n",
        "    print(self.__secret_count)\n",
        "\n",
        "counter = Counter()\n",
        "counter.count()\n",
        "counter.count()\n",
        "counter.count()\n",
        "print(counter._Counter__secret_count)"
      ],
      "metadata": {
        "colab": {
          "base_uri": "https://localhost:8080/"
        },
        "id": "TI5H8MLF7fvA",
        "outputId": "06332d0f-ce48-482d-a8eb-deb9d48894a6"
      },
      "execution_count": null,
      "outputs": [
        {
          "output_type": "stream",
          "name": "stdout",
          "text": [
            "1\n",
            "2\n",
            "3\n",
            "3\n"
          ]
        }
      ]
    },
    {
      "cell_type": "markdown",
      "source": [
        "# **Konversi Tipe Data**"
      ],
      "metadata": {
        "id": "m2IMeefyuYfG"
      }
    },
    {
      "cell_type": "code",
      "source": [
        "a = 1\n",
        "b = 1.0\n",
        "\n",
        "c = a + b\n",
        "\n",
        "print(type(a))\n",
        "print(type(b))\n",
        "print(int(c))\n",
        "print(type(int(c)))"
      ],
      "metadata": {
        "colab": {
          "base_uri": "https://localhost:8080/"
        },
        "id": "fWSjnnYs72hE",
        "outputId": "771a4b6f-6376-41a9-d43b-04d8255cf1c3"
      },
      "execution_count": null,
      "outputs": [
        {
          "output_type": "stream",
          "name": "stdout",
          "text": [
            "<class 'int'>\n",
            "<class 'float'>\n",
            "2\n",
            "<class 'int'>\n"
          ]
        }
      ]
    }
  ]
}