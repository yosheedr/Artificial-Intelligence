{
  "nbformat": 4,
  "nbformat_minor": 0,
  "metadata": {
    "colab": {
      "provenance": []
    },
    "kernelspec": {
      "name": "python3",
      "display_name": "Python 3"
    },
    "language_info": {
      "name": "python"
    }
  },
  "cells": [
    {
      "cell_type": "markdown",
      "source": [
        "            TUGAS1 AI\n",
        "            Ketentuan :\n",
        "            1. Pengerjaan wajib di google colab\n",
        "            2. Submit link di classroom dengan link colab\n",
        "            3. Wajib beri dokumentasi (penjelasan code dgn komen)\n",
        "            4. Nama file Tugas1_Nim e.g. Tugas1_672021001\n",
        "            5. Deadline sesuai di classroom\n",
        "            6. Terlambat submit, nilai -10/jam\n",
        "            7. Copas dan tidak sesuai ketentuan auto 0\n",
        "            8. Jangan lupa kasih akses all can view ya collabnya\n",
        "\n",
        "            Nb: Colab ini tidak perlu dirun, jika terlanjur ke-run\n",
        "            reload aja. Nanti gambaran output kembali seperti semula.\n",
        "            Kalo ada yang kurang paham sama tugasnya bisa pc asdos ya\n"
      ],
      "metadata": {
        "id": "2U0_BSuURsOI"
      }
    },
    {
      "cell_type": "code",
      "execution_count": null,
      "metadata": {
        "id": "lhzMprYFRYXI",
        "colab": {
          "base_uri": "https://localhost:8080/"
        },
        "outputId": "a71d4c04-6d23-4f0d-b228-94172e1e9e81"
      },
      "outputs": [
        {
          "output_type": "stream",
          "name": "stdout",
          "text": [
            "Masukkan jumlah karakter = 5\n",
            "😁😁😁😁😁\n",
            "😁😁😁😁 \n",
            "😁😁😁  \n",
            "😁😁   \n",
            "😁    \n"
          ]
        }
      ],
      "source": [
        "#1. Buat program dengan menampilkan sebuah perulangan piramida dengan menampilkan karakter emoji smile seperti output yang ditampilkan di bawah ini\n",
        "#jumlah sisi piramida diambil dari inputan user"
      ]
    },
    {
      "cell_type": "code",
      "source": [
        "#2. Buat program dengan menampilkan sebuah perulangan piramida dengan menampilkan karakter emoji smile seperti output yang ditampilkan di bawah ini\n",
        "#jumlah sisi piramida diambil dari inputan user"
      ],
      "metadata": {
        "colab": {
          "base_uri": "https://localhost:8080/"
        },
        "id": "hKbkP4pCQV-R",
        "outputId": "da20e4a4-06c0-4c07-ffa4-b87bbd880657"
      },
      "execution_count": null,
      "outputs": [
        {
          "output_type": "stream",
          "name": "stdout",
          "text": [
            "Masukkan jumlah karakter = 10\n",
            "😁😁😁😁😁😁😁😁😁😁\n",
            " 😁😁😁😁😁😁😁😁😁\n",
            "  😁😁😁😁😁😁😁😁\n",
            "   😁😁😁😁😁😁😁\n",
            "    😁😁😁😁😁😁\n",
            "     😁😁😁😁😁\n",
            "      😁😁😁😁\n",
            "       😁😁😁\n",
            "        😁😁\n",
            "         😁\n"
          ]
        }
      ]
    },
    {
      "cell_type": "code",
      "source": [
        "#3. Buat program cek harga\n",
        "#ketentuan :  -ada looping menu, sampai memilih selain char y maka looping stop\n",
        "#             -proses hanya di pilihan barang 1-4, selain itu keterangan barang tidak tersedia\n",
        "#             -percabangan operasi cek harga diskon"
      ],
      "metadata": {
        "colab": {
          "base_uri": "https://localhost:8080/"
        },
        "id": "gRsg7m9VUhau",
        "outputId": "27a4d695-6a03-4a20-e830-6a9b09e9f2b1"
      },
      "execution_count": null,
      "outputs": [
        {
          "name": "stdout",
          "output_type": "stream",
          "text": [
            "==========================\n",
            "Tebus Murah JanuaryMart\n",
            "==========================\n",
            " 1. Beras  : Rp.70000    Diskon: 20%\n",
            " 2. Telur  : Rp.45000    Diskon: 7%\n",
            " 3. Minyak : Rp.20000    Diskon: 3%\n",
            " 4. Terigu : Rp.17000    Diskon: 8%\n",
            "\n",
            "Pilih barang: 1\n",
            "Jumlah: 1\n",
            "Jumlah bayar adalah 56000\n",
            "Ingin cek harga lagi? y/else y\n",
            "Pilih barang: 3\n",
            "Jumlah: 5\n",
            "Jumlah bayar adalah 97000\n",
            "Ingin cek harga lagi? y/else Y\n",
            "Pilih barang: 8\n",
            "Barang tidak tersedia\n",
            "Ingin cek harga lagi? y/else n\n"
          ]
        }
      ]
    }
  ]
}