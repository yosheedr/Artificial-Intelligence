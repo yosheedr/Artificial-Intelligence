{
  "nbformat": 4,
  "nbformat_minor": 0,
  "metadata": {
    "colab": {
      "provenance": []
    },
    "kernelspec": {
      "name": "python3",
      "display_name": "Python 3"
    },
    "language_info": {
      "name": "python"
    }
  },
  "cells": [
    {
      "cell_type": "code",
      "execution_count": null,
      "metadata": {
        "colab": {
          "base_uri": "https://localhost:8080/"
        },
        "id": "78ht1cS0K_pn",
        "outputId": "7464ced8-df2b-481a-a4de-a4052ddeaf70"
      },
      "outputs": [
        {
          "output_type": "stream",
          "name": "stdout",
          "text": [
            "aku belajar bahasa phyton\n",
            "aku belajar bahasa phyton\n",
            "aku belajar bahasa phyton\n"
          ]
        }
      ],
      "source": [
        "def namafungsi():\n",
        "  print(\"aku belajar bahasa phyton\")\n",
        "for i in range(3):\n",
        "  namafungsi()"
      ]
    },
    {
      "cell_type": "code",
      "source": [
        "def luaspersegipanjang(panjang,lebar):\n",
        "  luas=(panjang*lebar)\n",
        "  print(\"luas\", luas)\n",
        "luaspersegipanjang(10,2)"
      ],
      "metadata": {
        "colab": {
          "base_uri": "https://localhost:8080/"
        },
        "id": "gD9F8CIBL9fO",
        "outputId": "135541ee-e47a-4a0d-b230-0d58752d360e"
      },
      "execution_count": null,
      "outputs": [
        {
          "output_type": "stream",
          "name": "stdout",
          "text": [
            "total luas 20\n"
          ]
        }
      ]
    },
    {
      "cell_type": "code",
      "source": [
        "def luaslingkaran(r):\n",
        "  luas=(3.14*r*r)\n",
        "  return luas #return untuk mengembalikan nilai luas\n",
        "\n",
        "total=luaslingkaran(10)\n",
        "print(total*2)"
      ],
      "metadata": {
        "colab": {
          "base_uri": "https://localhost:8080/"
        },
        "id": "rTcAWvS7Mj75",
        "outputId": "d3063ad4-2d38-498b-ed4b-8e86db7bb98b"
      },
      "execution_count": null,
      "outputs": [
        {
          "output_type": "stream",
          "name": "stdout",
          "text": [
            "628.0\n"
          ]
        }
      ]
    },
    {
      "cell_type": "code",
      "source": [
        "def biodata (nama, usia):\n",
        "  print(\"nama : \", nama)\n",
        "  print(\"usia : \", usia)\n",
        "\n",
        "biodata (usia=\"20\", nama=\"tessa\")"
      ],
      "metadata": {
        "colab": {
          "base_uri": "https://localhost:8080/"
        },
        "id": "xW9ceRTYObwI",
        "outputId": "e2cd10af-20d3-4d8a-ae0b-edb4685026d5"
      },
      "execution_count": null,
      "outputs": [
        {
          "output_type": "stream",
          "name": "stdout",
          "text": [
            "nama :  tessa\n",
            "usia :  20\n"
          ]
        }
      ]
    },
    {
      "cell_type": "code",
      "source": [
        "def manusia (nama, usia=20): #parameter kedua harus diisi\n",
        "  print(\"nama : \", nama)\n",
        "  print(\"usia : \", usia)\n",
        "\n",
        "manusia(\"yoshe\")"
      ],
      "metadata": {
        "colab": {
          "base_uri": "https://localhost:8080/"
        },
        "id": "sxHx4QnePPV8",
        "outputId": "18dccd43-dea8-4e8b-b0c3-6562d44b41e8"
      },
      "execution_count": null,
      "outputs": [
        {
          "output_type": "stream",
          "name": "stdout",
          "text": [
            "nama :  yoshe\n",
            "usia :  20\n"
          ]
        }
      ]
    },
    {
      "cell_type": "code",
      "source": [
        "def umur (umur1, *bebas): #argumen sembarang, panjang parameter bebas\n",
        "  print (umur1)\n",
        "  for i in bebas:\n",
        "    print(i)\n",
        "\n",
        "umur (19,20, \"aa\")\n"
      ],
      "metadata": {
        "colab": {
          "base_uri": "https://localhost:8080/"
        },
        "id": "4bRkgkLAQhkq",
        "outputId": "b1040204-32aa-4bb5-ad42-0dbc9af7be27"
      },
      "execution_count": null,
      "outputs": [
        {
          "output_type": "stream",
          "name": "stdout",
          "text": [
            "19\n",
            "20\n",
            "aa\n"
          ]
        }
      ]
    },
    {
      "cell_type": "code",
      "source": [
        "import math\n",
        "print(\"ini pi : \", math.pi)"
      ],
      "metadata": {
        "colab": {
          "base_uri": "https://localhost:8080/"
        },
        "id": "AemmuFmtRU4A",
        "outputId": "7e07b599-07b2-4775-b66a-99ee86730a18"
      },
      "execution_count": null,
      "outputs": [
        {
          "output_type": "stream",
          "name": "stdout",
          "text": [
            "ini pi :  3.141592653589793\n"
          ]
        }
      ]
    },
    {
      "cell_type": "code",
      "source": [
        "import math as m\n",
        "print (\"ini adalah pi dari m :\", m.pi)\n",
        "print (\"ini adalah tau dari m :\", m.tau)"
      ],
      "metadata": {
        "colab": {
          "base_uri": "https://localhost:8080/"
        },
        "id": "rltoycOaRkyi",
        "outputId": "324072ac-5c36-4060-8d75-9acc052b741f"
      },
      "execution_count": null,
      "outputs": [
        {
          "output_type": "stream",
          "name": "stdout",
          "text": [
            "ini adalah pi dari m : 3.141592653589793\n",
            "ini adalah tau dari m : 6.283185307179586\n"
          ]
        }
      ]
    },
    {
      "cell_type": "code",
      "source": [
        "from math import *\n",
        "print (pi, tau, e)"
      ],
      "metadata": {
        "colab": {
          "base_uri": "https://localhost:8080/"
        },
        "id": "2RQRFrAuSbru",
        "outputId": "8c483998-f74d-4582-dd74-ff8d3c73c791"
      },
      "execution_count": null,
      "outputs": [
        {
          "output_type": "stream",
          "name": "stdout",
          "text": [
            "3.141592653589793 6.283185307179586 2.718281828459045\n"
          ]
        }
      ]
    },
    {
      "cell_type": "code",
      "source": [
        "def cek_ganjil_genap():\n",
        "  if angka/2=0:\n",
        "    print(\"genap\")\n",
        "  else:\n",
        "    print(\"ganjil\")\n",
        "\n"
      ],
      "metadata": {
        "id": "qIzOtA8OStGe"
      },
      "execution_count": null,
      "outputs": []
    },
    {
      "cell_type": "code",
      "source": [
        "def jumlah (angka):\n",
        "  total=0\n",
        "  for x"
      ],
      "metadata": {
        "id": "dss4wg_OUUte"
      },
      "execution_count": null,
      "outputs": []
    }
  ]
}