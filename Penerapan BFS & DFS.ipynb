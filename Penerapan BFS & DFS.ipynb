{
  "nbformat": 4,
  "nbformat_minor": 0,
  "metadata": {
    "colab": {
      "provenance": []
    },
    "kernelspec": {
      "name": "python3",
      "display_name": "Python 3"
    },
    "language_info": {
      "name": "python"
    }
  },
  "cells": [
    {
      "cell_type": "markdown",
      "source": [
        "# ***1. Breadth First Search (BFS)***"
      ],
      "metadata": {
        "id": "-0Yujm9ATQIW"
      }
    },
    {
      "cell_type": "code",
      "source": [
        "# BFS\n",
        "# Inisialisasi graf\n",
        "graph = {\n",
        "    'A' : ['B','C'],\n",
        "    'B' : ['A','E','G'],\n",
        "    'C' : ['A','D','F'],\n",
        "    'D' : ['C','G','I'],\n",
        "    'E' : ['B','H'],\n",
        "    'F' : ['C','I'],\n",
        "    'G' : ['B','D','J'],\n",
        "    'H' : ['E','J'],\n",
        "    'I' : ['D','F','J'],\n",
        "    'J' : ['G','H','I'],\n",
        "}\n",
        "\n",
        "# Definisikan fungsi BFS\n",
        "def bfs(graph, start, end):\n",
        "    # Buat antrian untuk menampung node dan jalur yang sudah dilalui\n",
        "    queue = [(start, [start])]\n",
        "    # Proses BFS\n",
        "    while queue:\n",
        "        (node, path) = queue.pop(0)\n",
        "        # Cari semua node tetangga dari node yang belum dikunjungi\n",
        "        for neighbor in graph[node]:\n",
        "            if neighbor not in path:\n",
        "                # Jika node tetangga adalah node tujuan, keluar dari rekursi\n",
        "                if neighbor == end:\n",
        "                    return path + [neighbor]\n",
        "                # Jika bukan, rekursi pada node tetangga\n",
        "                else:\n",
        "                    queue.append((neighbor, path + [neighbor]))\n",
        "\n",
        "# Ambil inputan untuk node awal dan tujuan\n",
        "start_node = input(\"Node awal : \")\n",
        "end_node = input(\"Node tujuan : \")\n",
        "\n",
        "# Pencarian jalur dari node awal ke tujuan\n",
        "path = bfs(graph, start_node, end_node)\n",
        "\n",
        "# Menampilkan jalur yang ditemukan\n",
        "if path:\n",
        "    print(\"\\nJalur yang ditemukan : \", ', ' . join(path))\n",
        "else:\n",
        "    print(\"\\nJalur tidak ditemukan!\")\n"
      ],
      "metadata": {
        "colab": {
          "base_uri": "https://localhost:8080/"
        },
        "id": "S6aesNCDHk9M",
        "outputId": "f70383b3-a0e7-4616-ed2b-7e17cdf4bed0"
      },
      "execution_count": null,
      "outputs": [
        {
          "output_type": "stream",
          "name": "stdout",
          "text": [
            "Node awal : J\n",
            "Node tujuan : C\n",
            "\n",
            "Jalur yang ditemukan :  J, G, D, C\n"
          ]
        }
      ]
    },
    {
      "cell_type": "markdown",
      "source": [
        "# ***2. Depth First Search (DFS)***"
      ],
      "metadata": {
        "id": "0HFyoy9aTTyg"
      }
    },
    {
      "cell_type": "code",
      "source": [
        "# DFS\n",
        "# Inisialisasi graf\n",
        "graph = {\n",
        "    'A' : ['B','C'],\n",
        "    'B' : ['A','E','G'],\n",
        "    'C' : ['A','D','F'],\n",
        "    'D' : ['C','G','I'],\n",
        "    'E' : ['B','H'],\n",
        "    'F' : ['C','I'],\n",
        "    'G' : ['B','D','J'],\n",
        "    'H' : ['E','J'],\n",
        "    'I' : ['D','F','J'],\n",
        "    'J' : ['G','H','I'],\n",
        "}\n",
        "\n",
        "# Fungsi rekursif untuk DFS\n",
        "def dfs(graph, start, end, visited=None, path=None):\n",
        "    # Tandai node sebagai telah dikunjungi\n",
        "    if visited is None:\n",
        "        visited = set()\n",
        "\n",
        "    # Simpan jalur yang telah dilalui\n",
        "    if path is None:\n",
        "        path = []\n",
        "    visited.add(start)\n",
        "    path = path + [start]\n",
        "\n",
        "    # Jika node yang dikunjungi sama dengan node tujuan, keluar dari rekursi\n",
        "    if start == end:\n",
        "        return path\n",
        "\n",
        "    # Cari semua node tetangga dari node yang belum dikunjungi\n",
        "    for neighbor in graph[start]:\n",
        "      # Jika belum, rekursi pada node tetangga\n",
        "        if neighbor not in visited:\n",
        "            new_path = dfs(graph, neighbor, end, visited, path)\n",
        "            # Jika node tetangga adalah node tujuan, keluar dari rekursi\n",
        "            if new_path:\n",
        "                return new_path\n",
        "\n",
        "# Ambil inputan untuk node awal dan tujuan\n",
        "start_node = input(\"Node awal : \")\n",
        "end_node = input(\"Node tujuan : \")\n",
        "\n",
        "# Pencarian jalur dari node awal ke tujuan\n",
        "path = dfs(graph, start_node, end_node)\n",
        "\n",
        "# Menampilkan jalur yang ditemukan\n",
        "if path:\n",
        "    print(\"\\nJalur yang ditemukan : \", ', ' . join(path))\n",
        "else:\n",
        "    print(\"\\nJalur tidak ditemukan!\")\n"
      ],
      "metadata": {
        "colab": {
          "base_uri": "https://localhost:8080/"
        },
        "id": "KpDpceN0GI6R",
        "outputId": "f6fe5867-5605-4d33-9747-bc2868abd981"
      },
      "execution_count": null,
      "outputs": [
        {
          "output_type": "stream",
          "name": "stdout",
          "text": [
            "Node awal : A\n",
            "Node tujuan : J\n",
            "\n",
            "Jalur yang ditemukan :  A, B, E, H, J\n"
          ]
        }
      ]
    }
  ]
}