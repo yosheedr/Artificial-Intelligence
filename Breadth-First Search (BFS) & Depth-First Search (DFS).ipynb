{
  "nbformat": 4,
  "nbformat_minor": 0,
  "metadata": {
    "colab": {
      "provenance": []
    },
    "kernelspec": {
      "name": "python3",
      "display_name": "Python 3"
    },
    "language_info": {
      "name": "python"
    }
  },
  "cells": [
    {
      "cell_type": "code",
      "source": [
        "#coba\n",
        "vertexlist = ['A', 'B', 'C', 'D', 'E', 'F', 'G', 'H', 'I', 'J']\n",
        "edgelist = [('A','B') , ('A','C') , ('B','A') , ('B','E') , ('B','G') , ('C','A') , ('C','D') , ('C','F') , ('D','C') , ('D','G') , ('D','I') , ('E','B') , ('E','H') , ('F','C') , ('F','I') , ('G','D') , ('G','J') , ('H','E') , ('H','J') , ('I','D') , ('I','F') , ('I','J') , ('J','G') , ('J','H') , ('J','I')] #membaca dari yang terkecil ke besar\n",
        "graphs = (vertexlist, edgelist)\n",
        "\n",
        "def bfs(graphs, start):\n",
        "  visitedlist = []\n",
        "  queue = [start]\n",
        "  adjacencylist = [[] for vertex in vertexlist]\n",
        "\n",
        "  #cek daftar tetangganya\n",
        "  for edge in edgelist:\n",
        "    adjacencylist [edge[0]].append(edge[1])\n",
        "\n",
        "  #proses BFS\n",
        "  while queue:\n",
        "    current=queue.pop()\n",
        "    for neighbor in adjacencylist[current]:\n",
        "      if not neighbor in visitedlist:\n",
        "        queue.insert(0,neighbor)\n",
        "    visitedlist.append(current)\n",
        "\n",
        "  return visitedlist\n",
        "\n",
        "print(bfs(graphs,0))"
      ],
      "metadata": {
        "colab": {
          "base_uri": "https://localhost:8080/",
          "height": 321
        },
        "id": "t0sjLreyh9UU",
        "outputId": "36cf7126-c0ba-47f9-ae81-5dfc4b118b26"
      },
      "execution_count": null,
      "outputs": [
        {
          "output_type": "error",
          "ename": "TypeError",
          "evalue": "ignored",
          "traceback": [
            "\u001b[0;31m---------------------------------------------------------------------------\u001b[0m",
            "\u001b[0;31mTypeError\u001b[0m                                 Traceback (most recent call last)",
            "\u001b[0;32m<ipython-input-2-43dd338cb2a2>\u001b[0m in \u001b[0;36m<module>\u001b[0;34m\u001b[0m\n\u001b[1;32m     23\u001b[0m   \u001b[0;32mreturn\u001b[0m \u001b[0mvisitedlist\u001b[0m\u001b[0;34m\u001b[0m\u001b[0;34m\u001b[0m\u001b[0m\n\u001b[1;32m     24\u001b[0m \u001b[0;34m\u001b[0m\u001b[0m\n\u001b[0;32m---> 25\u001b[0;31m \u001b[0mprint\u001b[0m\u001b[0;34m(\u001b[0m\u001b[0mbfs\u001b[0m\u001b[0;34m(\u001b[0m\u001b[0mgraphs\u001b[0m\u001b[0;34m,\u001b[0m\u001b[0;36m0\u001b[0m\u001b[0;34m)\u001b[0m\u001b[0;34m)\u001b[0m\u001b[0;34m\u001b[0m\u001b[0;34m\u001b[0m\u001b[0m\n\u001b[0m",
            "\u001b[0;32m<ipython-input-2-43dd338cb2a2>\u001b[0m in \u001b[0;36mbfs\u001b[0;34m(graphs, start)\u001b[0m\n\u001b[1;32m     11\u001b[0m   \u001b[0;31m#cek daftar tetangganya\u001b[0m\u001b[0;34m\u001b[0m\u001b[0;34m\u001b[0m\u001b[0;34m\u001b[0m\u001b[0m\n\u001b[1;32m     12\u001b[0m   \u001b[0;32mfor\u001b[0m \u001b[0medge\u001b[0m \u001b[0;32min\u001b[0m \u001b[0medgelist\u001b[0m\u001b[0;34m:\u001b[0m\u001b[0;34m\u001b[0m\u001b[0;34m\u001b[0m\u001b[0m\n\u001b[0;32m---> 13\u001b[0;31m     \u001b[0madjacencylist\u001b[0m \u001b[0;34m[\u001b[0m\u001b[0medge\u001b[0m\u001b[0;34m[\u001b[0m\u001b[0;36m0\u001b[0m\u001b[0;34m]\u001b[0m\u001b[0;34m]\u001b[0m\u001b[0;34m.\u001b[0m\u001b[0mappend\u001b[0m\u001b[0;34m(\u001b[0m\u001b[0medge\u001b[0m\u001b[0;34m[\u001b[0m\u001b[0;36m1\u001b[0m\u001b[0;34m]\u001b[0m\u001b[0;34m)\u001b[0m\u001b[0;34m\u001b[0m\u001b[0;34m\u001b[0m\u001b[0m\n\u001b[0m\u001b[1;32m     14\u001b[0m \u001b[0;34m\u001b[0m\u001b[0m\n\u001b[1;32m     15\u001b[0m   \u001b[0;31m#proses BFS\u001b[0m\u001b[0;34m\u001b[0m\u001b[0;34m\u001b[0m\u001b[0;34m\u001b[0m\u001b[0m\n",
            "\u001b[0;31mTypeError\u001b[0m: list indices must be integers or slices, not str"
          ]
        }
      ]
    },
    {
      "cell_type": "code",
      "execution_count": null,
      "metadata": {
        "colab": {
          "base_uri": "https://localhost:8080/"
        },
        "id": "DGhL9lghZn49",
        "outputId": "7f2bbf3a-4102-4f73-ea59-4b8cc65af7ce"
      },
      "outputs": [
        {
          "output_type": "stream",
          "name": "stdout",
          "text": [
            "[0, 1, 2, 3, 4, 5, 6]\n"
          ]
        }
      ],
      "source": [
        "#Latihan BFS\n",
        "\n",
        "vertexlist = ['0', '1', '2', '3', '4', '5', '6']\n",
        "edgelist = [(0,1), (0,2), (1,0), (1,3), (2,0), (2,4), (2,5), (3,1), (4,2), (4,6), (5,2), (6,4)] #membaca dari yang terkecil ke besar\n",
        "graphs = (vertexlist, edgelist)\n",
        "\n",
        "def bfs(graphs, start):\n",
        "  visitedlist = []\n",
        "  queue = [start]\n",
        "  adjacencylist = [[] for vertex in vertexlist]\n",
        "\n",
        "  #cek daftar tetangganya\n",
        "  for edge in edgelist:\n",
        "    adjacencylist [edge[0]].append(edge[1])\n",
        "\n",
        "  #proses BFS\n",
        "  while queue:\n",
        "    current=queue.pop()\n",
        "    for neighbor in adjacencylist[current]:\n",
        "      if not neighbor in visitedlist:\n",
        "        queue.insert(0,neighbor)\n",
        "    visitedlist.append(current)\n",
        "\n",
        "  return visitedlist\n",
        "\n",
        "print(bfs(graphs,0))"
      ]
    },
    {
      "cell_type": "code",
      "source": [
        "#Latihan DFS\n",
        "\n",
        "vlist = ['0', '1', '2', '3', '4', '5', '6']\n",
        "elist = [(0,1), (0,2), (1,0), (1,3), (2,0), (2,4), (2,5), (3,1), (4,2), (4,6), (5,2), (6,4)] #membaca dari kanan ke kiri\n",
        "#elist = [(0,2), (0,1), (1,3), (1,0), (2,5), (2,4), (2,0), (3,1), (4,6), (4,2), (5,2), (6,4)] #membaca dari kiri ke kanan\n",
        "\n",
        "#jika baca graf dari kiri ke kanan maka outputnya dari kanan ke kiri & sebaliknya\n",
        "\n",
        "graph = (vlist,elist)\n",
        "\n",
        "def dfs(graph,start):\n",
        "  visitVertex = []\n",
        "  stack = [start]\n",
        "  adjacencylist = [[] for vertex in vlist]\n",
        "\n",
        "  #perulangan elist\n",
        "  for edge in elist :\n",
        "    adjacencylist [edge[0]].append(edge[1])\n",
        "  while stack:\n",
        "    current = stack.pop()\n",
        "    for neighbor in adjacencylist[current]:\n",
        "      if not neighbor in visitVertex:\n",
        "        stack.append(neighbor)\n",
        "    visitVertex.append(current)\n",
        "\n",
        "  return visitVertex\n",
        "\n",
        "print(dfs(graph,0))\n"
      ],
      "metadata": {
        "colab": {
          "base_uri": "https://localhost:8080/"
        },
        "id": "Z_VMC7HRhgZP",
        "outputId": "9498b16b-294b-421c-d286-8fa9628a7faa"
      },
      "execution_count": null,
      "outputs": [
        {
          "output_type": "stream",
          "name": "stdout",
          "text": [
            "[0, 2, 5, 4, 6, 1, 3]\n"
          ]
        }
      ]
    }
  ]
}